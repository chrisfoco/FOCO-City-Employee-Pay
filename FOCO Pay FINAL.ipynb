{
 "cells": [
  {
   "cell_type": "markdown",
   "id": "d07c1b4b",
   "metadata": {},
   "source": [
    "# Quick EDA of 2021 Fort Collins, Colorado City Employee Salary Data"
   ]
  },
  {
   "cell_type": "markdown",
   "id": "8659a419",
   "metadata": {},
   "source": [
    "Chris Ellis"
   ]
  },
  {
   "cell_type": "markdown",
   "id": "20168c22",
   "metadata": {},
   "source": [
    "6/26/2022"
   ]
  },
  {
   "cell_type": "markdown",
   "id": "2c897656",
   "metadata": {},
   "source": [
    "## Intro"
   ]
  },
  {
   "cell_type": "markdown",
   "id": "aa36e11b",
   "metadata": {},
   "source": [
    "Having just finished the Data Analyst career path on Codecademy, I want to take a stab at some real world EDA using Jupyter Notebook.  I need a pretty beginner dataset(pretty tidy and relatively small), as well as something that isn't already on Kaggle.  After some searching I settled on Fort Collins city employee salary data - it's the city I (currently) live in, so it's of some personal interest to me.  I plan to do more complex notebooks in the not-too-distant future, but this feels like a good starting point.\n"
   ]
  },
  {
   "cell_type": "code",
   "execution_count": 250,
   "id": "d1b43579",
   "metadata": {},
   "outputs": [],
   "source": [
    "#import libraries\n",
    "\n",
    "import pandas as pd\n",
    "import seaborn as sns\n",
    "import matplotlib.pyplot as plt\n"
   ]
  },
  {
   "cell_type": "code",
   "execution_count": 254,
   "id": "eba4e07c",
   "metadata": {
    "scrolled": true
   },
   "outputs": [
    {
     "data": {
      "text/html": [
       "<div>\n",
       "<style scoped>\n",
       "    .dataframe tbody tr th:only-of-type {\n",
       "        vertical-align: middle;\n",
       "    }\n",
       "\n",
       "    .dataframe tbody tr th {\n",
       "        vertical-align: top;\n",
       "    }\n",
       "\n",
       "    .dataframe thead th {\n",
       "        text-align: right;\n",
       "    }\n",
       "</style>\n",
       "<table border=\"1\" class=\"dataframe\">\n",
       "  <thead>\n",
       "    <tr style=\"text-align: right;\">\n",
       "      <th></th>\n",
       "      <th>Job Title</th>\n",
       "      <th>Service Area</th>\n",
       "      <th>Department</th>\n",
       "      <th>Annual Salary or Hourly Rate</th>\n",
       "      <th>Pay Type</th>\n",
       "      <th>meta_row_index</th>\n",
       "      <th>meta_row_id</th>\n",
       "    </tr>\n",
       "  </thead>\n",
       "  <tbody>\n",
       "    <tr>\n",
       "      <th>0</th>\n",
       "      <td>City Attorney</td>\n",
       "      <td>Legal Services</td>\n",
       "      <td>City Attorney's Office</td>\n",
       "      <td>206090.04</td>\n",
       "      <td>Annual Salary</td>\n",
       "      <td>0</td>\n",
       "      <td>96a2acd9a2ac1b6e44e8fecc9f94b6672f67454b</td>\n",
       "    </tr>\n",
       "    <tr>\n",
       "      <th>1</th>\n",
       "      <td>Chief Of Police</td>\n",
       "      <td>Police Services</td>\n",
       "      <td>Police Administration</td>\n",
       "      <td>203692.92</td>\n",
       "      <td>Annual Salary</td>\n",
       "      <td>1</td>\n",
       "      <td>99daa98a180665b6a2312a2ebc29c8fc38f121b1</td>\n",
       "    </tr>\n",
       "    <tr>\n",
       "      <th>2</th>\n",
       "      <td>Deputy City Manager</td>\n",
       "      <td>Executive Services</td>\n",
       "      <td>City Manager's Office</td>\n",
       "      <td>201368.44</td>\n",
       "      <td>Annual Salary</td>\n",
       "      <td>2</td>\n",
       "      <td>57fd2825f42983e70ce2e21a18dadd2d67dad077</td>\n",
       "    </tr>\n",
       "    <tr>\n",
       "      <th>3</th>\n",
       "      <td>Deputy City Manager</td>\n",
       "      <td>Executive Services</td>\n",
       "      <td>City Manager's Office</td>\n",
       "      <td>198000.00</td>\n",
       "      <td>Annual Salary</td>\n",
       "      <td>3</td>\n",
       "      <td>77a4a92b57770d4811927556adccb8d717f25d4c</td>\n",
       "    </tr>\n",
       "    <tr>\n",
       "      <th>4</th>\n",
       "      <td>Administrative Fire Chief</td>\n",
       "      <td>Poudre Fire Authority</td>\n",
       "      <td>Poudre Fire Authority</td>\n",
       "      <td>185000.00</td>\n",
       "      <td>Annual Salary</td>\n",
       "      <td>4</td>\n",
       "      <td>fda5a9a3566a7956f0f5e4cc1d64f13008b95dae</td>\n",
       "    </tr>\n",
       "    <tr>\n",
       "      <th>5</th>\n",
       "      <td>Police Deputy Chief</td>\n",
       "      <td>Police Services</td>\n",
       "      <td>Police Administration</td>\n",
       "      <td>176177.88</td>\n",
       "      <td>Annual Salary</td>\n",
       "      <td>5</td>\n",
       "      <td>eaf62c829dacee382e9bfd1b8a8f6671e7a5b9ff</td>\n",
       "    </tr>\n",
       "    <tr>\n",
       "      <th>6</th>\n",
       "      <td>Chief Financial Officer</td>\n",
       "      <td>Financial Services</td>\n",
       "      <td>Finance Administration</td>\n",
       "      <td>170000.00</td>\n",
       "      <td>Annual Salary</td>\n",
       "      <td>6</td>\n",
       "      <td>40088129ab0597dd9871cefcb02b82bdc077cfa6</td>\n",
       "    </tr>\n",
       "    <tr>\n",
       "      <th>7</th>\n",
       "      <td>Broadband Executive Director</td>\n",
       "      <td>Utility Services</td>\n",
       "      <td>Broadband</td>\n",
       "      <td>168000.00</td>\n",
       "      <td>Annual Salary</td>\n",
       "      <td>7</td>\n",
       "      <td>8c577cd373a0278b9aa82d5b445aa7ffa8dce62f</td>\n",
       "    </tr>\n",
       "    <tr>\n",
       "      <th>8</th>\n",
       "      <td>Chief Judge</td>\n",
       "      <td>Judicial Services</td>\n",
       "      <td>Municipal Court</td>\n",
       "      <td>165000.00</td>\n",
       "      <td>Annual Salary</td>\n",
       "      <td>8</td>\n",
       "      <td>03d0cb16144ea054e169119658f0a8a236cb445f</td>\n",
       "    </tr>\n",
       "    <tr>\n",
       "      <th>9</th>\n",
       "      <td>Director Of PDT</td>\n",
       "      <td>Planning, Dev &amp; Transportation</td>\n",
       "      <td>PDT Administration</td>\n",
       "      <td>164999.90</td>\n",
       "      <td>Annual Salary</td>\n",
       "      <td>9</td>\n",
       "      <td>99ec05f8f0256ee6505781d3ddcc8b16819be172</td>\n",
       "    </tr>\n",
       "    <tr>\n",
       "      <th>10</th>\n",
       "      <td>Chief Human Resources Officer</td>\n",
       "      <td>Information &amp; Employee Svcs</td>\n",
       "      <td>Human Resources</td>\n",
       "      <td>164800.10</td>\n",
       "      <td>Annual Salary</td>\n",
       "      <td>10</td>\n",
       "      <td>eeef972fb4e87716204e53cde471d1097e712cd1</td>\n",
       "    </tr>\n",
       "    <tr>\n",
       "      <th>11</th>\n",
       "      <td>Deputy City Attorney</td>\n",
       "      <td>Legal Services</td>\n",
       "      <td>City Attorney's Office</td>\n",
       "      <td>164441.75</td>\n",
       "      <td>Annual Salary</td>\n",
       "      <td>11</td>\n",
       "      <td>e1349e658e27157cedf162e19adbe88224755c17</td>\n",
       "    </tr>\n",
       "    <tr>\n",
       "      <th>12</th>\n",
       "      <td>Community Services Director</td>\n",
       "      <td>Community Services</td>\n",
       "      <td>Community Services Admin</td>\n",
       "      <td>160000.00</td>\n",
       "      <td>Annual Salary</td>\n",
       "      <td>12</td>\n",
       "      <td>cea765b4a99a3987a9288b686301a8b1bcacaf20</td>\n",
       "    </tr>\n",
       "    <tr>\n",
       "      <th>13</th>\n",
       "      <td>Chief Sustainability Officer</td>\n",
       "      <td>Sustainability Services</td>\n",
       "      <td>Sustainability Services Admin</td>\n",
       "      <td>159650.04</td>\n",
       "      <td>Annual Salary</td>\n",
       "      <td>13</td>\n",
       "      <td>6146dfa3e4464c3e8b592ad610b2a95d7f05704b</td>\n",
       "    </tr>\n",
       "    <tr>\n",
       "      <th>14</th>\n",
       "      <td>Sr Assistant City Attorney</td>\n",
       "      <td>Legal Services</td>\n",
       "      <td>City Attorney's Office</td>\n",
       "      <td>157690.00</td>\n",
       "      <td>Annual Salary</td>\n",
       "      <td>14</td>\n",
       "      <td>a34451b64c1f5950eae37d1bbf76456a0defc82f</td>\n",
       "    </tr>\n",
       "    <tr>\n",
       "      <th>15</th>\n",
       "      <td>Chief Information Officer</td>\n",
       "      <td>Information &amp; Employee Svcs</td>\n",
       "      <td>Information Technology</td>\n",
       "      <td>156999.96</td>\n",
       "      <td>Annual Salary</td>\n",
       "      <td>15</td>\n",
       "      <td>332c0f2017c9abfb3fd4c4824ddc9ae7590be6a9</td>\n",
       "    </tr>\n",
       "    <tr>\n",
       "      <th>16</th>\n",
       "      <td>Division Chief</td>\n",
       "      <td>Poudre Fire Authority</td>\n",
       "      <td>Poudre Fire Authority</td>\n",
       "      <td>154804.00</td>\n",
       "      <td>Annual Salary</td>\n",
       "      <td>16</td>\n",
       "      <td>c201cd47e039e8d7de9780bd9ae0ae4846475b19</td>\n",
       "    </tr>\n",
       "    <tr>\n",
       "      <th>17</th>\n",
       "      <td>Division Chief</td>\n",
       "      <td>Poudre Fire Authority</td>\n",
       "      <td>Poudre Fire Authority</td>\n",
       "      <td>154804.00</td>\n",
       "      <td>Annual Salary</td>\n",
       "      <td>17</td>\n",
       "      <td>c201cd47e039e8d7de9780bd9ae0ae4846475b19</td>\n",
       "    </tr>\n",
       "    <tr>\n",
       "      <th>18</th>\n",
       "      <td>Division Chief</td>\n",
       "      <td>Poudre Fire Authority</td>\n",
       "      <td>Poudre Fire Authority</td>\n",
       "      <td>154804.00</td>\n",
       "      <td>Annual Salary</td>\n",
       "      <td>18</td>\n",
       "      <td>c201cd47e039e8d7de9780bd9ae0ae4846475b19</td>\n",
       "    </tr>\n",
       "    <tr>\n",
       "      <th>19</th>\n",
       "      <td>Equity Officer</td>\n",
       "      <td>Executive Services</td>\n",
       "      <td>City Manager's Office</td>\n",
       "      <td>152000.00</td>\n",
       "      <td>Annual Salary</td>\n",
       "      <td>19</td>\n",
       "      <td>4ab3c4f4e72321c3bae53e05c93a99f22ebd5da2</td>\n",
       "    </tr>\n",
       "  </tbody>\n",
       "</table>\n",
       "</div>"
      ],
      "text/plain": [
       "                        Job Title                    Service Area  \\\n",
       "0                   City Attorney                  Legal Services   \n",
       "1                 Chief Of Police                 Police Services   \n",
       "2             Deputy City Manager              Executive Services   \n",
       "3             Deputy City Manager              Executive Services   \n",
       "4       Administrative Fire Chief           Poudre Fire Authority   \n",
       "5             Police Deputy Chief                 Police Services   \n",
       "6         Chief Financial Officer              Financial Services   \n",
       "7    Broadband Executive Director                Utility Services   \n",
       "8                     Chief Judge               Judicial Services   \n",
       "9                 Director Of PDT  Planning, Dev & Transportation   \n",
       "10  Chief Human Resources Officer     Information & Employee Svcs   \n",
       "11           Deputy City Attorney                  Legal Services   \n",
       "12    Community Services Director              Community Services   \n",
       "13   Chief Sustainability Officer         Sustainability Services   \n",
       "14     Sr Assistant City Attorney                  Legal Services   \n",
       "15      Chief Information Officer     Information & Employee Svcs   \n",
       "16                 Division Chief           Poudre Fire Authority   \n",
       "17                 Division Chief           Poudre Fire Authority   \n",
       "18                 Division Chief           Poudre Fire Authority   \n",
       "19                 Equity Officer              Executive Services   \n",
       "\n",
       "                       Department  Annual Salary or Hourly Rate  \\\n",
       "0          City Attorney's Office                     206090.04   \n",
       "1           Police Administration                     203692.92   \n",
       "2           City Manager's Office                     201368.44   \n",
       "3           City Manager's Office                     198000.00   \n",
       "4           Poudre Fire Authority                     185000.00   \n",
       "5           Police Administration                     176177.88   \n",
       "6          Finance Administration                     170000.00   \n",
       "7                       Broadband                     168000.00   \n",
       "8                 Municipal Court                     165000.00   \n",
       "9              PDT Administration                     164999.90   \n",
       "10                Human Resources                     164800.10   \n",
       "11         City Attorney's Office                     164441.75   \n",
       "12       Community Services Admin                     160000.00   \n",
       "13  Sustainability Services Admin                     159650.04   \n",
       "14         City Attorney's Office                     157690.00   \n",
       "15         Information Technology                     156999.96   \n",
       "16          Poudre Fire Authority                     154804.00   \n",
       "17          Poudre Fire Authority                     154804.00   \n",
       "18          Poudre Fire Authority                     154804.00   \n",
       "19          City Manager's Office                     152000.00   \n",
       "\n",
       "         Pay Type  meta_row_index                               meta_row_id  \n",
       "0   Annual Salary               0  96a2acd9a2ac1b6e44e8fecc9f94b6672f67454b  \n",
       "1   Annual Salary               1  99daa98a180665b6a2312a2ebc29c8fc38f121b1  \n",
       "2   Annual Salary               2  57fd2825f42983e70ce2e21a18dadd2d67dad077  \n",
       "3   Annual Salary               3  77a4a92b57770d4811927556adccb8d717f25d4c  \n",
       "4   Annual Salary               4  fda5a9a3566a7956f0f5e4cc1d64f13008b95dae  \n",
       "5   Annual Salary               5  eaf62c829dacee382e9bfd1b8a8f6671e7a5b9ff  \n",
       "6   Annual Salary               6  40088129ab0597dd9871cefcb02b82bdc077cfa6  \n",
       "7   Annual Salary               7  8c577cd373a0278b9aa82d5b445aa7ffa8dce62f  \n",
       "8   Annual Salary               8  03d0cb16144ea054e169119658f0a8a236cb445f  \n",
       "9   Annual Salary               9  99ec05f8f0256ee6505781d3ddcc8b16819be172  \n",
       "10  Annual Salary              10  eeef972fb4e87716204e53cde471d1097e712cd1  \n",
       "11  Annual Salary              11  e1349e658e27157cedf162e19adbe88224755c17  \n",
       "12  Annual Salary              12  cea765b4a99a3987a9288b686301a8b1bcacaf20  \n",
       "13  Annual Salary              13  6146dfa3e4464c3e8b592ad610b2a95d7f05704b  \n",
       "14  Annual Salary              14  a34451b64c1f5950eae37d1bbf76456a0defc82f  \n",
       "15  Annual Salary              15  332c0f2017c9abfb3fd4c4824ddc9ae7590be6a9  \n",
       "16  Annual Salary              16  c201cd47e039e8d7de9780bd9ae0ae4846475b19  \n",
       "17  Annual Salary              17  c201cd47e039e8d7de9780bd9ae0ae4846475b19  \n",
       "18  Annual Salary              18  c201cd47e039e8d7de9780bd9ae0ae4846475b19  \n",
       "19  Annual Salary              19  4ab3c4f4e72321c3bae53e05c93a99f22ebd5da2  "
      ]
     },
     "execution_count": 254,
     "metadata": {},
     "output_type": "execute_result"
    }
   ],
   "source": [
    "#load csv\n",
    "foco_pay = pd.read_csv('/Users/chrisellis/Desktop/CSVs/2021_Fort_Collins_City_Employee_Base_Pay.csv')\n",
    "\n",
    "\n",
    "#quick inspection to get familiar with table\n",
    "foco_pay.head(20)"
   ]
  },
  {
   "cell_type": "markdown",
   "id": "161fed8c",
   "metadata": {},
   "source": [
    " - I immediately notice some columns that aren't going to be of use to me here.  There's also some duplicate rows, which I assume relate to number of employee's in a specific position.  I'm just comparing pay rates in this journal, so total employee's isn't of interest here."
   ]
  },
  {
   "cell_type": "code",
   "execution_count": 257,
   "id": "2bbf5498",
   "metadata": {},
   "outputs": [
    {
     "name": "stdout",
     "output_type": "stream",
     "text": [
      "<class 'pandas.core.frame.DataFrame'>\n",
      "Int64Index: 1595 entries, 0 to 2633\n",
      "Data columns (total 5 columns):\n",
      " #   Column                        Non-Null Count  Dtype  \n",
      "---  ------                        --------------  -----  \n",
      " 0   Job Title                     1595 non-null   object \n",
      " 1   Service Area                  1595 non-null   object \n",
      " 2   Department                    1595 non-null   object \n",
      " 3   Annual Salary or Hourly Rate  1595 non-null   float64\n",
      " 4   Pay Type                      1595 non-null   object \n",
      "dtypes: float64(1), object(4)\n",
      "memory usage: 74.8+ KB\n"
     ]
    }
   ],
   "source": [
    "#drop uneccesary rows and columns\n",
    "\n",
    "foco_pay.drop(['meta_row_index', 'meta_row_id'], axis=1, inplace=True)\n",
    "foco_pay.drop_duplicates(inplace=True)\n",
    "foco_pay.info()"
   ]
  },
  {
   "cell_type": "markdown",
   "id": "9eb18f35",
   "metadata": {},
   "source": [
    " - Now that the dataset is ready, the first thing to do is get a feel for pay rate distributions.  The data is split between Annual Salaries and Hourly Rates, so those need to be seperated.  From there, it's time to plot distributions.  I also want to chart the median and mean for each distribution."
   ]
  },
  {
   "cell_type": "code",
   "execution_count": 258,
   "id": "5c43ce6f",
   "metadata": {},
   "outputs": [
    {
     "data": {
      "image/png": "[encoded data removed]",
      "text/plain": [
       "<Figure size 720x576 with 1 Axes>"
      ]
     },
     "metadata": {
      "needs_background": "light"
     },
     "output_type": "display_data"
    },
    {
     "data": {
      "text/plain": [
       "<Figure size 432x288 with 0 Axes>"
      ]
     },
     "metadata": {},
     "output_type": "display_data"
    },
    {
     "data": {
      "image/png": "[encoded data removed]",
      "text/plain": [
       "<Figure size 720x576 with 1 Axes>"
      ]
     },
     "metadata": {
      "needs_background": "light"
     },
     "output_type": "display_data"
    },
    {
     "data": {
      "text/plain": [
       "<Figure size 432x288 with 0 Axes>"
      ]
     },
     "metadata": {},
     "output_type": "display_data"
    }
   ],
   "source": [
    "#seperating Annual Salaries and Hourly Rates\n",
    "\n",
    "foco_annual_rate = foco_pay[foco_pay['Pay Type'] == 'Annual Salary']\n",
    "foco_hourly_rate = foco_pay[foco_pay['Pay Type'] == 'Hourly']\n",
    "\n",
    "\n",
    "\n",
    "plt.figure(figsize=(10,8))\n",
    "\n",
    "sns.histplot(foco_annual_rate['Annual Salary or Hourly Rate'])\n",
    "plt.axvline(x=foco_annual_rate['Annual Salary or Hourly Rate'].median(), color='red', ls= '--', label='Median: ' + \n",
    "           str(round(foco_annual_rate['Annual Salary or Hourly Rate'].median(), 2)))\n",
    "plt.axvline(x=foco_annual_rate['Annual Salary or Hourly Rate'].mean(), color='green', ls= '--', label='Mean: ' +\n",
    "           str(round(foco_annual_rate['Annual Salary or Hourly Rate'].mean(), 2)))\n",
    "plt.legend()\n",
    "plt.xticks(rotation=30)\n",
    "plt.xlabel('Annual Salary')\n",
    "\n",
    "plt.show()\n",
    "plt.clf()\n",
    "\n",
    "plt.figure(figsize=(10,8))\n",
    "\n",
    "ax = plt.subplot()\n",
    "sns.histplot(foco_hourly_rate['Annual Salary or Hourly Rate'])\n",
    "plt.axvline(x=foco_hourly_rate['Annual Salary or Hourly Rate'].median(), color='red', ls= '--', label='Median: ' + \n",
    "           str(round(foco_hourly_rate['Annual Salary or Hourly Rate'].median(), 2)))\n",
    "plt.axvline(x=foco_hourly_rate['Annual Salary or Hourly Rate'].mean(), color='green', ls= '--', label='Mean: ' +\n",
    "           str(round(foco_hourly_rate['Annual Salary or Hourly Rate'].mean(), 2)))\n",
    "plt.legend()\n",
    "plt.xticks(rotation=30)\n",
    "ax.set_xticks(range(10,105,5))\n",
    "plt.xlabel('Hourly Rate')\n",
    "\n",
    "plt.show()\n",
    "plt.clf()"
   ]
  },
  {
   "cell_type": "markdown",
   "id": "460c78a0",
   "metadata": {},
   "source": [
    " - The first thing I'm noticing is heavy skew on both distributions.  The second (and more interesting) thing is that hourly employees make far less than salaried employees on a per hour basis.  The mean and median of the Hourly Rate distribuition are roughly equivalent to $30000-40000 per year.  "
   ]
  },
  {
   "cell_type": "markdown",
   "id": "76d18687",
   "metadata": {},
   "source": [
    " - I thought it'd be interesting to see how well Data jobs paid in relation to overall city jobs, since that's ultimately the career I'm looking for."
   ]
  },
  {
   "cell_type": "code",
   "execution_count": 259,
   "id": "4ac9cec8",
   "metadata": {},
   "outputs": [
    {
     "name": "stdout",
     "output_type": "stream",
     "text": [
      "                       Job Title                    Service Area  \\\n",
      "86    Sr Administrator, Database     Information & Employee Svcs   \n",
      "909              Analyst I, Data  Planning, Dev & Transportation   \n",
      "1254     Planning & Data Analyst           Poudre Fire Authority   \n",
      "2004     Planning & Data Analyst                Utility Services   \n",
      "2288            Data Entry Clerk     Information & Employee Svcs   \n",
      "\n",
      "                          Department  Annual Salary or Hourly Rate  \\\n",
      "86            Information Technology                     122731.21   \n",
      "909     Transfort / Parking Services                      72800.00   \n",
      "1254           Poudre Fire Authority                      59373.86   \n",
      "2004  Utilities Customer Connections                         20.00   \n",
      "2288              Operation Services                         14.50   \n",
      "\n",
      "           Pay Type  \n",
      "86    Annual Salary  \n",
      "909   Annual Salary  \n",
      "1254  Annual Salary  \n",
      "2004         Hourly  \n",
      "2288         Hourly  \n"
     ]
    }
   ],
   "source": [
    "#show jobs with keyword 'data'\n",
    "\n",
    "\n",
    "analyst_jobs = foco_pay.loc[foco_pay['Job Title'].str.contains('data', case=False)]\n",
    "print(analyst_jobs)"
   ]
  },
  {
   "cell_type": "markdown",
   "id": "d4359a73",
   "metadata": {},
   "source": [
    " - Only 5 jobs with the keyword 'Data', and of those one is a senior position.  Data Analyst's for Planning, Development and Transportation Services are paid about average compared to the rest of the City employee's.  The Poudre Fire Analyst job makes roughly 15-20% less than average.  The other 2 jobs pay hourly - both are around average for hourly employees."
   ]
  },
  {
   "cell_type": "markdown",
   "id": "d0ae060f",
   "metadata": {},
   "source": [
    " - Next, I want to see how each job category compares to the overall pay data.  First thing to do is sort the categories.  I'm curious if sorting them by mean and median will reveal any discrepancies. "
   ]
  },
  {
   "cell_type": "code",
   "execution_count": 260,
   "id": "62500518",
   "metadata": {},
   "outputs": [
    {
     "name": "stdout",
     "output_type": "stream",
     "text": [
      "Service Area\n",
      "Legal Services                    102871.038095\n",
      "Poudre Fire Authority              90543.879574\n",
      "Executive Services                 88687.275200\n",
      "Police Services                    84398.998876\n",
      "Downtown Development Authority     80887.675556\n",
      "Sustainability Services            79197.922571\n",
      "Information & Employee Svcs        78839.108485\n",
      "Financial Services                 78423.932449\n",
      "Utility Services                   75004.540848\n",
      "Planning, Dev & Transportation     65237.351405\n",
      "Community Services                 62861.145255\n",
      "Judicial Services                  50783.476429\n",
      "Library District                   44987.625972\n",
      "Name: Annual Salary or Hourly Rate, dtype: float64\n"
     ]
    }
   ],
   "source": [
    "#different job categories, sorted by mean salary, descending\n",
    "\n",
    "jobs_sorted_mean = foco_annual_rate.groupby('Service Area')['Annual Salary or Hourly Rate'].mean().sort_values(ascending=False)\n",
    "print(jobs_sorted)\n",
    "\n",
    "\n",
    "sorted_list = [\n",
    "    'Legal Services',\n",
    "    'Poudre Fire Authority',\n",
    "    'Executive Services',\n",
    "    'Police Services',\n",
    "    'Downtown Development Authority',\n",
    "    'Sustainability Services',\n",
    "    'Information & Employee Svcs',\n",
    "    'Financial Services',\n",
    "    'Utility Services',\n",
    "    'Planning, Dev & Transportation',\n",
    "    'Community Services',\n",
    "    'Judicial Services',\n",
    "    'Library District'\n",
    "]"
   ]
  },
  {
   "cell_type": "code",
   "execution_count": 166,
   "id": "dbca2a31",
   "metadata": {},
   "outputs": [
    {
     "name": "stdout",
     "output_type": "stream",
     "text": [
      "Service Area\n",
      "Legal Services                    105000.000\n",
      "Poudre Fire Authority              88019.880\n",
      "Financial Services                 76891.620\n",
      "Sustainability Services            75704.920\n",
      "Downtown Development Authority     75599.940\n",
      "Information & Employee Svcs        75505.410\n",
      "Police Services                    75116.000\n",
      "Executive Services                 71999.980\n",
      "Utility Services                   71769.420\n",
      "Planning, Dev & Transportation     60547.420\n",
      "Community Services                 59899.970\n",
      "Judicial Services                  43391.295\n",
      "Library District                   40950.285\n",
      "Name: Annual Salary or Hourly Rate, dtype: float64\n"
     ]
    }
   ],
   "source": [
    "#sorted by median salary, descending\n",
    "\n",
    "jobs_sorted_median = foco_annual_rate.groupby('Service Area')['Annual Salary or Hourly Rate'].median().sort_values(ascending=False)\n",
    "print(jobs_sorted_median)"
   ]
  },
  {
   "cell_type": "markdown",
   "id": "9c4687a7",
   "metadata": {},
   "source": [
    "Interesting! Average Executive Service salaries are almost 89,000, but the median salary is just 72,000.  Police have a fairly large range too, a mean salary of 84,000 compared to a median salary of around 75,000.  The rest of the salaries have pretty comparable means and medians.  Let's dig a little deeper:"
   ]
  },
  {
   "cell_type": "code",
   "execution_count": 201,
   "id": "003c639c",
   "metadata": {},
   "outputs": [
    {
     "data": {
      "image/png": "[encoded data removed]",
      "text/plain": [
       "<Figure size 1080x576 with 1 Axes>"
      ]
     },
     "metadata": {
      "needs_background": "light"
     },
     "output_type": "display_data"
    },
    {
     "data": {
      "text/plain": [
       "<Figure size 432x288 with 0 Axes>"
      ]
     },
     "metadata": {},
     "output_type": "display_data"
    }
   ],
   "source": [
    "#boxplots showing ranges of salary for each job category, ordered by mean(descending)\n",
    "\n",
    "\n",
    "plt.figure(figsize=(15,8))\n",
    "ax = plt.subplot()\n",
    "sns.boxplot(data=foco_annual_rate, x='Service Area', y='Annual Salary or Hourly Rate', order=sorted_list)\n",
    "plt.xticks(rotation=30)\n",
    "ax.set_yticks(range(0, 225000, 25000))\n",
    "plt.xlabel('Job Categories')\n",
    "plt.ylabel('Annual Salary')\n",
    "plt.tight_layout()\n",
    "\n",
    "plt.show()\n",
    "plt.clf()"
   ]
  },
  {
   "cell_type": "markdown",
   "id": "5cdec7ee",
   "metadata": {},
   "source": [
    " - Legal Services have a really wide range of salaries.  Judicial Services, while tangentially related, have a much smaller range and lot less earning potential.  Interesting to note the extreme outliers and how they're affecting the mean range.  Planning, Development, and Transportation has one of the smallest Q2-Q3 ranges, as well as the most outliers.  "
   ]
  }
 ],
 "metadata": {
  "kernelspec": {
   "display_name": "Python 3 (ipykernel)",
   "language": "python",
   "name": "python3"
  },
  "language_info": {
   "codemirror_mode": {
    "name": "ipython",
    "version": 3
   },
   "file_extension": ".py",
   "mimetype": "text/x-python",
   "name": "python",
   "nbconvert_exporter": "python",
   "pygments_lexer": "ipython3",
   "version": "3.9.7"
  }
 },
 "nbformat": 4,
 "nbformat_minor": 5
}
